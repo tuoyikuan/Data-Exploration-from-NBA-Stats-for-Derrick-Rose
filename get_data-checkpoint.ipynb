{
 "cells": [
  {
   "cell_type": "code",
   "execution_count": 40,
   "metadata": {},
   "outputs": [],
   "source": [
    "import requests\n",
    "import json\n",
    "import pandas as pd\n",
    "from urllib.parse import urlencode\n",
    "\n",
    "years = range(13,18)\n",
    "\n",
    "for year in years:\n",
    "    Season = '20' + str(year) + '-' + str(year+1)\n",
    "    base = 'https://stats.nba.com/stats/playerdashptshots?DateFrom=&DateTo=&GameSegment=&LastNGames=0&LeagueID=00&Location=&Month=0&OpponentTeamID=0&Outcome=&PerMode=PerGame&Period=0&PlayerID=201565&SeasonSegment=&SeasonType=Regular+Season&TeamID=0&VsConference=&VsDivision='\n",
    "    url = base + '&' + urlencode({'Season' : Season})\n",
    "\n",
    "    response = requests.get(url=url, \n",
    "                            headers={\n",
    "                            'Host': 'stats.nba.com',\n",
    "                            'User-Agent': 'Mozilla/5.0 (Windows NT 10.0; Win64; x64; rv:69.0) Gecko/20100101 Firefox/69.0',\n",
    "                            'Accept': 'application/json, text/plain, */*',\n",
    "                            'Accept-Language': 'zh-CN,en-US;q=0.7,en;q=0.3',\n",
    "                            'Accept-Encoding': 'gzip, deflate, br',\n",
    "                             })\n",
    "    data = json.loads(response.text)\n",
    "\n",
    "    df = pd.DataFrame(data=data['resultSets'][0]['rowSet'], columns=data['resultSets'][0]['headers'])\n",
    "\n",
    "    for table in data['resultSets']:\n",
    "        path = 'C:/Users/tuoyi/Desktop/workbench/DataExp/Data-Exploration-from-NBA-Stats-for-Derrick-Rose/data/'\n",
    "        ext = '.csv'\n",
    "        file_name = path + table['name'] + '_' + Season + ext\n",
    "        cols = table['headers']\n",
    "        rows = table['rowSet']\n",
    "        df = pd.DataFrame(data=rows, columns=cols)\n",
    "        df.to_csv(path_or_buf=file_name)"
   ]
  },
  {
   "cell_type": "code",
   "execution_count": null,
   "metadata": {},
   "outputs": [],
   "source": []
  }
 ],
 "metadata": {
  "kernelspec": {
   "display_name": "Python 3",
   "language": "python",
   "name": "python3"
  },
  "language_info": {
   "codemirror_mode": {
    "name": "ipython",
    "version": 3
   },
   "file_extension": ".py",
   "mimetype": "text/x-python",
   "name": "python",
   "nbconvert_exporter": "python",
   "pygments_lexer": "ipython3",
   "version": "3.7.1"
  }
 },
 "nbformat": 4,
 "nbformat_minor": 2
}
